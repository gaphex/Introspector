{
 "cells": [
  {
   "cell_type": "code",
   "execution_count": 7,
   "metadata": {
    "collapsed": true
   },
   "outputs": [],
   "source": [
    "def connect_to_box (server, username, password,timeout=3) :\n",
    "    ssh = paramiko.SSHClient()\n",
    "    ssh.set_missing_host_key_policy(paramiko.AutoAddPolicy())\n",
    "    try:\n",
    "        ssh.connect(server, username= username, password= password,timeout=timeout)\n",
    "    except Exception as e:\n",
    "        print e\n",
    "        return None\n",
    "    return ssh"
   ]
  },
  {
   "cell_type": "code",
   "execution_count": 40,
   "metadata": {
    "collapsed": false
   },
   "outputs": [],
   "source": [
    "import paramiko"
   ]
  },
  {
   "cell_type": "code",
   "execution_count": 66,
   "metadata": {
    "collapsed": false
   },
   "outputs": [],
   "source": [
    "\n",
    "host = '127.0.1.1'\n",
    "user = 'denis'\n",
    "secret = 'warped'\n",
    "port = 2222\n",
    "\n",
    "client = paramiko.SSHClient()\n",
    "client.set_missing_host_key_policy(paramiko.AutoAddPolicy())\n",
    "client.connect(hostname=host, username=user, password=secret, port=port)\n",
    "#stdin, stdout, stderr = client.exec_command('nova --debug --os-username demo --os-tenant-name demo --os-password openstack --os-auth-url http://10.0.2.15:5000/v2.0  list')\n",
    "stdin, stdout, stderr = client.exec_command('keystone --os-username demo --os-tenant-name demo --os-password openstack --os-auth-url http://10.0.2.15:5000/v2.0 catalog')\n",
    "data = stdout.read() + stderr.read()\n",
    "\n",
    "client.close()"
   ]
  },
  {
   "cell_type": "code",
   "execution_count": 69,
   "metadata": {
    "collapsed": false
   },
   "outputs": [
    {
     "name": "stdout",
     "output_type": "stream",
     "text": [
      "Service: compute\n",
      "+-------------+-----------------------------------------------------------+\n",
      "|   Property  |                           Value                           |\n",
      "+-------------+-----------------------------------------------------------+\n",
      "|   adminURL  | http://10.0.2.15:8774/v2/3e8ff173a0cc4e438907691529557ee5 |\n",
      "|      id     |              4866d902d77c4f49bbf49f39d230cf84             |\n",
      "| internalURL | http://10.0.2.15:8774/v2/3e8ff173a0cc4e438907691529557ee5 |\n",
      "|  publicURL  | http://10.0.2.15:8774/v2/3e8ff173a0cc4e438907691529557ee5 |\n",
      "|    region   |                         RegionOne                         |\n",
      "+-------------+-----------------------------------------------------------+\n",
      "Service: network\n",
      "+-------------+----------------------------------+\n",
      "|   Property  |              Value               |\n",
      "+-------------+----------------------------------+\n",
      "|   adminURL  |      http://10.0.2.15:9696/      |\n",
      "|      id     | 2b87b121b97b4d9c9e6ddb74d1b81b0e |\n",
      "| internalURL |      http://10.0.2.15:9696/      |\n",
      "|  publicURL  |      http://10.0.2.15:9696/      |\n",
      "|    region   |            RegionOne             |\n",
      "+-------------+----------------------------------+\n",
      "Service: volumev2\n",
      "+-------------+-----------------------------------------------------------+\n",
      "|   Property  |                           Value                           |\n",
      "+-------------+-----------------------------------------------------------+\n",
      "|   adminURL  | http://10.0.2.15:8776/v2/3e8ff173a0cc4e438907691529557ee5 |\n",
      "|      id     |              295742dc18364ce6a7727685e40a3680             |\n",
      "| internalURL | http://10.0.2.15:8776/v2/3e8ff173a0cc4e438907691529557ee5 |\n",
      "|  publicURL  | http://10.0.2.15:8776/v2/3e8ff173a0cc4e438907691529557ee5 |\n",
      "|    region   |                         RegionOne                         |\n",
      "+-------------+-----------------------------------------------------------+\n",
      "Service: image\n",
      "+-------------+----------------------------------+\n",
      "|   Property  |              Value               |\n",
      "+-------------+----------------------------------+\n",
      "|   adminURL  |      http://10.0.2.15:9292       |\n",
      "|      id     | 3b129ca4bc4b4aa586746592fec5c7da |\n",
      "| internalURL |      http://10.0.2.15:9292       |\n",
      "|  publicURL  |      http://10.0.2.15:9292       |\n",
      "|    region   |            RegionOne             |\n",
      "+-------------+----------------------------------+\n",
      "Service: volume\n",
      "+-------------+-----------------------------------------------------------+\n",
      "|   Property  |                           Value                           |\n",
      "+-------------+-----------------------------------------------------------+\n",
      "|   adminURL  | http://10.0.2.15:8776/v1/3e8ff173a0cc4e438907691529557ee5 |\n",
      "|      id     |              548ab577769647c88b89bf389acecaa9             |\n",
      "| internalURL | http://10.0.2.15:8776/v1/3e8ff173a0cc4e438907691529557ee5 |\n",
      "|  publicURL  | http://10.0.2.15:8776/v1/3e8ff173a0cc4e438907691529557ee5 |\n",
      "|    region   |                         RegionOne                         |\n",
      "+-------------+-----------------------------------------------------------+\n",
      "Service: ec2\n",
      "+-------------+----------------------------------+\n",
      "|   Property  |              Value               |\n",
      "+-------------+----------------------------------+\n",
      "|   adminURL  |      http://10.0.2.15:8773/      |\n",
      "|      id     | 3cc9004d84a74f1fb7f9182a6fac6842 |\n",
      "| internalURL |      http://10.0.2.15:8773/      |\n",
      "|  publicURL  |      http://10.0.2.15:8773/      |\n",
      "|    region   |            RegionOne             |\n",
      "+-------------+----------------------------------+\n",
      "Service: computev21\n",
      "+-------------+-------------------------------------------------------------+\n",
      "|   Property  |                            Value                            |\n",
      "+-------------+-------------------------------------------------------------+\n",
      "|   adminURL  | http://10.0.2.15:8774/v2.1/3e8ff173a0cc4e438907691529557ee5 |\n",
      "|      id     |               a0d6e1050ad347bdbf830c25a81b93a9              |\n",
      "| internalURL | http://10.0.2.15:8774/v2.1/3e8ff173a0cc4e438907691529557ee5 |\n",
      "|  publicURL  | http://10.0.2.15:8774/v2.1/3e8ff173a0cc4e438907691529557ee5 |\n",
      "|    region   |                          RegionOne                          |\n",
      "+-------------+-------------------------------------------------------------+\n",
      "Service: identity\n",
      "+-------------+----------------------------------+\n",
      "|   Property  |              Value               |\n",
      "+-------------+----------------------------------+\n",
      "|   adminURL  |   http://10.0.2.15:35357/v2.0    |\n",
      "|      id     | 1928bf47f0dd4c0ebbcc6745184e4488 |\n",
      "| internalURL |    http://10.0.2.15:5000/v2.0    |\n",
      "|  publicURL  |    http://10.0.2.15:5000/v2.0    |\n",
      "|    region   |            RegionOne             |\n",
      "+-------------+----------------------------------+\n",
      "/usr/local/lib/python2.7/dist-packages/keystoneclient/shell.py:64: DeprecationWarning: The keystone CLI is deprecated in favor of python-openstackclient. For a Python library, continue using python-keystoneclient.\n",
      "  'python-keystoneclient.', DeprecationWarning)\n",
      "\n"
     ]
    }
   ],
   "source": [
    "print data"
   ]
  },
  {
   "cell_type": "code",
   "execution_count": null,
   "metadata": {
    "collapsed": false
   },
   "outputs": [],
   "source": [
    "print data"
   ]
  },
  {
   "cell_type": "code",
   "execution_count": null,
   "metadata": {
    "collapsed": false
   },
   "outputs": [],
   "source": []
  },
  {
   "cell_type": "code",
   "execution_count": null,
   "metadata": {
    "collapsed": false
   },
   "outputs": [],
   "source": []
  },
  {
   "cell_type": "code",
   "execution_count": null,
   "metadata": {
    "collapsed": false
   },
   "outputs": [],
   "source": []
  },
  {
   "cell_type": "code",
   "execution_count": null,
   "metadata": {
    "collapsed": true
   },
   "outputs": [],
   "source": []
  }
 ],
 "metadata": {
  "kernelspec": {
   "display_name": "Python 2",
   "language": "python",
   "name": "python2"
  },
  "language_info": {
   "codemirror_mode": {
    "name": "ipython",
    "version": 2
   },
   "file_extension": ".py",
   "mimetype": "text/x-python",
   "name": "python",
   "nbconvert_exporter": "python",
   "pygments_lexer": "ipython2",
   "version": "2.7.9"
  }
 },
 "nbformat": 4,
 "nbformat_minor": 0
}
