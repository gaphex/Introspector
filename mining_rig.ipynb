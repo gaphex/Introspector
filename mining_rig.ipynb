{
 "cells": [
  {
   "cell_type": "code",
   "execution_count": null,
   "metadata": {
    "collapsed": true
   },
   "outputs": [],
   "source": []
  },
  {
   "cell_type": "code",
   "execution_count": null,
   "metadata": {
    "collapsed": false
   },
   "outputs": [],
   "source": []
  },
  {
   "cell_type": "code",
   "execution_count": 11,
   "metadata": {
    "collapsed": false
   },
   "outputs": [
    {
     "name": "stdout",
     "output_type": "stream",
     "text": [
      "    timestamp       source   traffic icmp_seq     ttl   time\n",
      "0    23:04:49   127.0.0.1:  64 bytes        0  ttl=64  0.055\n",
      "1    23:04:50   127.0.0.1:  64 bytes        1  ttl=64  0.047\n",
      "2    23:04:51   127.0.0.1:  64 bytes        2  ttl=64  0.048\n",
      "3    23:04:52   127.0.0.1:  64 bytes        3  ttl=64  0.085\n",
      "4    23:04:53   127.0.0.1:  64 bytes        4  ttl=64  0.077\n",
      "5    23:06:35   127.0.0.1:  64 bytes        0  ttl=64  0.048\n",
      "6    23:06:36   127.0.0.1:  64 bytes        1  ttl=64  0.037\n",
      "7    23:06:37   127.0.0.1:  64 bytes        2  ttl=64  0.035\n",
      "8    23:06:38   127.0.0.1:  64 bytes        3  ttl=64  0.055\n",
      "9    23:06:39   127.0.0.1:  64 bytes        4  ttl=64  0.049\n",
      "10   23:07:19   127.0.0.1:  64 bytes        0  ttl=64  0.048\n",
      "11   23:07:20   127.0.0.1:  64 bytes        1  ttl=64  0.051\n",
      "12   23:07:21   127.0.0.1:  64 bytes        2  ttl=64  0.043\n",
      "13   23:07:22   127.0.0.1:  64 bytes        3  ttl=64  0.037\n",
      "14   23:07:23   127.0.0.1:  64 bytes        4  ttl=64  0.062\n",
      "15   23:08:59   127.0.0.1:  64 bytes        0  ttl=64  0.054\n",
      "16   23:09:00   127.0.0.1:  64 bytes        1  ttl=64  0.042\n",
      "17   23:09:01   127.0.0.1:  64 bytes        2  ttl=64  0.038\n",
      "18   23:09:02   127.0.0.1:  64 bytes        3  ttl=64  0.060\n",
      "19   23:09:03   127.0.0.1:  64 bytes        4  ttl=64  0.042\n",
      "20   23:09:04   127.0.0.1:  64 bytes        5  ttl=64  0.038\n",
      "21   23:09:05   127.0.0.1:  64 bytes        6  ttl=64  0.037\n",
      "22   23:09:06   127.0.0.1:  64 bytes        7  ttl=64  0.036\n",
      "23   23:09:07   127.0.0.1:  64 bytes        8  ttl=64  0.041\n",
      "24   23:09:08   127.0.0.1:  64 bytes        9  ttl=64  0.043\n",
      "25   23:09:09   127.0.0.1:  64 bytes       10  ttl=64  0.042\n",
      "26   23:09:10   127.0.0.1:  64 bytes       11  ttl=64  0.039\n",
      "27   23:09:11   127.0.0.1:  64 bytes       12  ttl=64  0.038\n",
      "28   23:09:12   127.0.0.1:  64 bytes       13  ttl=64  0.040\n",
      "29   23:09:13   127.0.0.1:  64 bytes       14  ttl=64  0.039\n",
      "..        ...          ...       ...      ...     ...    ...\n",
      "90   23:24:05    127.0.0.1  64 bytes        0  ttl=64  0.060\n",
      "91   23:24:06    127.0.0.1  64 bytes        1  ttl=64  0.036\n",
      "92   23:24:07    127.0.0.1  64 bytes        2  ttl=64  0.048\n",
      "93   23:24:08    127.0.0.1  64 bytes        3  ttl=64  0.041\n",
      "94   23:24:09    127.0.0.1  64 bytes        4  ttl=64  0.039\n",
      "95   23:24:10    127.0.0.1  64 bytes        5  ttl=64  0.047\n",
      "96   23:24:11    127.0.0.1  64 bytes        6  ttl=64  0.040\n",
      "97   23:24:12    127.0.0.1  64 bytes        7  ttl=64  0.045\n",
      "98   23:24:13    127.0.0.1  64 bytes        8  ttl=64  0.045\n",
      "99   23:24:14    127.0.0.1  64 bytes        9  ttl=64  0.044\n",
      "100  23:24:15    127.0.0.1  64 bytes       10  ttl=64  0.065\n",
      "101  23:24:16    127.0.0.1  64 bytes       11  ttl=64  0.037\n",
      "102  23:24:17    127.0.0.1  64 bytes       12  ttl=64  0.150\n",
      "103  23:24:18    127.0.0.1  64 bytes       13  ttl=64  0.035\n",
      "104  23:24:19    127.0.0.1  64 bytes       14  ttl=64  0.050\n",
      "105  23:24:05  192.168.1.1  64 bytes        0  ttl=64  0.845\n",
      "106  23:24:06  192.168.1.1  64 bytes        1  ttl=64  0.782\n",
      "107  23:24:07  192.168.1.1  64 bytes        2  ttl=64  1.999\n",
      "108  23:24:08  192.168.1.1  64 bytes        3  ttl=64  1.944\n",
      "109  23:24:09  192.168.1.1  64 bytes        4  ttl=64  0.756\n",
      "110  23:24:10  192.168.1.1  64 bytes        5  ttl=64  1.934\n",
      "111  23:24:11  192.168.1.1  64 bytes        6  ttl=64  2.070\n",
      "112  23:24:12  192.168.1.1  64 bytes        7  ttl=64  0.754\n",
      "113  23:24:13  192.168.1.1  64 bytes        8  ttl=64  0.817\n",
      "114  23:24:14  192.168.1.1  64 bytes        9  ttl=64  1.963\n",
      "115  23:24:15  192.168.1.1  64 bytes       10  ttl=64  1.317\n",
      "116  23:24:16  192.168.1.1  64 bytes       11  ttl=64  0.890\n",
      "117  23:24:17  192.168.1.1  64 bytes       12  ttl=64  2.119\n",
      "118  23:24:18  192.168.1.1  64 bytes       13  ttl=64  0.827\n",
      "119  23:24:19  192.168.1.1  64 bytes       14  ttl=64  1.928\n",
      "\n",
      "[120 rows x 6 columns]\n"
     ]
    }
   ],
   "source": [
    "import pandas as pd\n",
    "import sqlite3\n",
    "\n",
    "conn = sqlite3.connect('dumps.db')\n",
    "df = pd.read_sql('select * from ping', con=conn) \n",
    "\n",
    "print df"
   ]
  },
  {
   "cell_type": "code",
   "execution_count": null,
   "metadata": {
    "collapsed": false
   },
   "outputs": [],
   "source": []
  },
  {
   "cell_type": "code",
   "execution_count": null,
   "metadata": {
    "collapsed": false
   },
   "outputs": [],
   "source": [
    "print data"
   ]
  },
  {
   "cell_type": "code",
   "execution_count": null,
   "metadata": {
    "collapsed": false
   },
   "outputs": [],
   "source": []
  },
  {
   "cell_type": "code",
   "execution_count": null,
   "metadata": {
    "collapsed": false
   },
   "outputs": [],
   "source": []
  },
  {
   "cell_type": "code",
   "execution_count": null,
   "metadata": {
    "collapsed": false
   },
   "outputs": [],
   "source": []
  },
  {
   "cell_type": "code",
   "execution_count": null,
   "metadata": {
    "collapsed": true
   },
   "outputs": [],
   "source": []
  }
 ],
 "metadata": {
  "kernelspec": {
   "display_name": "Python 2",
   "language": "python",
   "name": "python2"
  },
  "language_info": {
   "codemirror_mode": {
    "name": "ipython",
    "version": 2
   },
   "file_extension": ".py",
   "mimetype": "text/x-python",
   "name": "python",
   "nbconvert_exporter": "python",
   "pygments_lexer": "ipython2",
   "version": "2.7.9"
  }
 },
 "nbformat": 4,
 "nbformat_minor": 0
}
